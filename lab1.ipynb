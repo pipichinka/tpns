{
 "cells": [
  {
   "cell_type": "code",
   "execution_count": 22,
   "metadata": {},
   "outputs": [],
   "source": [
    "import pandas as pd\n",
    "import numpy as np\n",
    "import matplotlib.pyplot as plt\n",
    "import seaborn as sb\n",
    "from sklearn import preprocessing\n"
   ]
  },
  {
   "cell_type": "code",
   "execution_count": 23,
   "metadata": {},
   "outputs": [],
   "source": [
    "laptops = pd.read_csv(\"Laptop_price.csv\")"
   ]
  },
  {
   "cell_type": "code",
   "execution_count": 24,
   "metadata": {},
   "outputs": [
    {
     "data": {
      "text/html": [
       "<div>\n",
       "<style scoped>\n",
       "    .dataframe tbody tr th:only-of-type {\n",
       "        vertical-align: middle;\n",
       "    }\n",
       "\n",
       "    .dataframe tbody tr th {\n",
       "        vertical-align: top;\n",
       "    }\n",
       "\n",
       "    .dataframe thead th {\n",
       "        text-align: right;\n",
       "    }\n",
       "</style>\n",
       "<table border=\"1\" class=\"dataframe\">\n",
       "  <thead>\n",
       "    <tr style=\"text-align: right;\">\n",
       "      <th></th>\n",
       "      <th>Brand</th>\n",
       "      <th>Processor_Speed</th>\n",
       "      <th>RAM_Size</th>\n",
       "      <th>Storage_Capacity</th>\n",
       "      <th>Screen_Size</th>\n",
       "      <th>Weight</th>\n",
       "      <th>Price</th>\n",
       "    </tr>\n",
       "  </thead>\n",
       "  <tbody>\n",
       "    <tr>\n",
       "      <th>0</th>\n",
       "      <td>Asus</td>\n",
       "      <td>3.830296</td>\n",
       "      <td>16</td>\n",
       "      <td>512</td>\n",
       "      <td>11.185147</td>\n",
       "      <td>2.641094</td>\n",
       "      <td>17395.093065</td>\n",
       "    </tr>\n",
       "    <tr>\n",
       "      <th>1</th>\n",
       "      <td>Acer</td>\n",
       "      <td>2.912833</td>\n",
       "      <td>4</td>\n",
       "      <td>1000</td>\n",
       "      <td>11.311372</td>\n",
       "      <td>3.260012</td>\n",
       "      <td>31607.605919</td>\n",
       "    </tr>\n",
       "    <tr>\n",
       "      <th>2</th>\n",
       "      <td>Lenovo</td>\n",
       "      <td>3.241627</td>\n",
       "      <td>4</td>\n",
       "      <td>256</td>\n",
       "      <td>11.853023</td>\n",
       "      <td>2.029061</td>\n",
       "      <td>9291.023542</td>\n",
       "    </tr>\n",
       "    <tr>\n",
       "      <th>3</th>\n",
       "      <td>Acer</td>\n",
       "      <td>3.806248</td>\n",
       "      <td>16</td>\n",
       "      <td>512</td>\n",
       "      <td>12.280360</td>\n",
       "      <td>4.573865</td>\n",
       "      <td>17436.728334</td>\n",
       "    </tr>\n",
       "    <tr>\n",
       "      <th>4</th>\n",
       "      <td>Acer</td>\n",
       "      <td>3.268097</td>\n",
       "      <td>32</td>\n",
       "      <td>1000</td>\n",
       "      <td>14.990877</td>\n",
       "      <td>4.193472</td>\n",
       "      <td>32917.990718</td>\n",
       "    </tr>\n",
       "    <tr>\n",
       "      <th>5</th>\n",
       "      <td>HP</td>\n",
       "      <td>1.881348</td>\n",
       "      <td>16</td>\n",
       "      <td>256</td>\n",
       "      <td>11.943958</td>\n",
       "      <td>4.840268</td>\n",
       "      <td>9543.719980</td>\n",
       "    </tr>\n",
       "    <tr>\n",
       "      <th>6</th>\n",
       "      <td>Lenovo</td>\n",
       "      <td>2.940721</td>\n",
       "      <td>32</td>\n",
       "      <td>256</td>\n",
       "      <td>11.713246</td>\n",
       "      <td>4.344846</td>\n",
       "      <td>10390.137319</td>\n",
       "    </tr>\n",
       "    <tr>\n",
       "      <th>7</th>\n",
       "      <td>Lenovo</td>\n",
       "      <td>3.016788</td>\n",
       "      <td>4</td>\n",
       "      <td>256</td>\n",
       "      <td>15.588315</td>\n",
       "      <td>2.941120</td>\n",
       "      <td>9214.484506</td>\n",
       "    </tr>\n",
       "    <tr>\n",
       "      <th>8</th>\n",
       "      <td>Lenovo</td>\n",
       "      <td>2.560327</td>\n",
       "      <td>4</td>\n",
       "      <td>512</td>\n",
       "      <td>15.026332</td>\n",
       "      <td>2.743620</td>\n",
       "      <td>16372.175284</td>\n",
       "    </tr>\n",
       "    <tr>\n",
       "      <th>9</th>\n",
       "      <td>Acer</td>\n",
       "      <td>3.341111</td>\n",
       "      <td>32</td>\n",
       "      <td>512</td>\n",
       "      <td>13.611945</td>\n",
       "      <td>4.093149</td>\n",
       "      <td>18501.832733</td>\n",
       "    </tr>\n",
       "  </tbody>\n",
       "</table>\n",
       "</div>"
      ],
      "text/plain": [
       "    Brand  Processor_Speed  RAM_Size  Storage_Capacity  Screen_Size    Weight  \\\n",
       "0    Asus         3.830296        16               512    11.185147  2.641094   \n",
       "1    Acer         2.912833         4              1000    11.311372  3.260012   \n",
       "2  Lenovo         3.241627         4               256    11.853023  2.029061   \n",
       "3    Acer         3.806248        16               512    12.280360  4.573865   \n",
       "4    Acer         3.268097        32              1000    14.990877  4.193472   \n",
       "5      HP         1.881348        16               256    11.943958  4.840268   \n",
       "6  Lenovo         2.940721        32               256    11.713246  4.344846   \n",
       "7  Lenovo         3.016788         4               256    15.588315  2.941120   \n",
       "8  Lenovo         2.560327         4               512    15.026332  2.743620   \n",
       "9    Acer         3.341111        32               512    13.611945  4.093149   \n",
       "\n",
       "          Price  \n",
       "0  17395.093065  \n",
       "1  31607.605919  \n",
       "2   9291.023542  \n",
       "3  17436.728334  \n",
       "4  32917.990718  \n",
       "5   9543.719980  \n",
       "6  10390.137319  \n",
       "7   9214.484506  \n",
       "8  16372.175284  \n",
       "9  18501.832733  "
      ]
     },
     "execution_count": 24,
     "metadata": {},
     "output_type": "execute_result"
    }
   ],
   "source": [
    "laptops.head(10)"
   ]
  },
  {
   "cell_type": "code",
   "execution_count": 25,
   "metadata": {},
   "outputs": [
    {
     "name": "stdout",
     "output_type": "stream",
     "text": [
      "<class 'pandas.core.frame.DataFrame'>\n",
      "RangeIndex: 1000 entries, 0 to 999\n",
      "Data columns (total 7 columns):\n",
      " #   Column            Non-Null Count  Dtype  \n",
      "---  ------            --------------  -----  \n",
      " 0   Brand             1000 non-null   object \n",
      " 1   Processor_Speed   1000 non-null   float64\n",
      " 2   RAM_Size          1000 non-null   int64  \n",
      " 3   Storage_Capacity  1000 non-null   int64  \n",
      " 4   Screen_Size       1000 non-null   float64\n",
      " 5   Weight            1000 non-null   float64\n",
      " 6   Price             1000 non-null   float64\n",
      "dtypes: float64(4), int64(2), object(1)\n",
      "memory usage: 54.8+ KB\n"
     ]
    }
   ],
   "source": [
    "laptops.info()\n"
   ]
  },
  {
   "cell_type": "code",
   "execution_count": 26,
   "metadata": {},
   "outputs": [
    {
     "data": {
      "text/plain": [
       "Brand\n",
       "Dell      210\n",
       "Asus      206\n",
       "Acer      204\n",
       "Lenovo    190\n",
       "HP        190\n",
       "Name: count, dtype: int64"
      ]
     },
     "execution_count": 26,
     "metadata": {},
     "output_type": "execute_result"
    }
   ],
   "source": [
    "laptops[\"Brand\"].value_counts()"
   ]
  },
  {
   "cell_type": "code",
   "execution_count": 27,
   "metadata": {},
   "outputs": [
    {
     "data": {
      "text/plain": [
       "RAM_Size\n",
       "32    274\n",
       "8     246\n",
       "4     243\n",
       "16    237\n",
       "Name: count, dtype: int64"
      ]
     },
     "execution_count": 27,
     "metadata": {},
     "output_type": "execute_result"
    }
   ],
   "source": [
    "laptops[\"RAM_Size\"].value_counts()"
   ]
  },
  {
   "cell_type": "code",
   "execution_count": 28,
   "metadata": {},
   "outputs": [
    {
     "data": {
      "text/plain": [
       "Screen_Size\n",
       "11.185147    1\n",
       "13.259182    1\n",
       "15.376783    1\n",
       "14.439339    1\n",
       "13.025896    1\n",
       "            ..\n",
       "16.890244    1\n",
       "13.702871    1\n",
       "14.080209    1\n",
       "16.935307    1\n",
       "16.561498    1\n",
       "Name: count, Length: 1000, dtype: int64"
      ]
     },
     "execution_count": 28,
     "metadata": {},
     "output_type": "execute_result"
    }
   ],
   "source": [
    "laptops[\"Screen_Size\"].value_counts()"
   ]
  },
  {
   "cell_type": "code",
   "execution_count": 29,
   "metadata": {},
   "outputs": [
    {
     "data": {
      "text/plain": [
       "Storage_Capacity\n",
       "256     357\n",
       "1000    336\n",
       "512     307\n",
       "Name: count, dtype: int64"
      ]
     },
     "execution_count": 29,
     "metadata": {},
     "output_type": "execute_result"
    }
   ],
   "source": [
    "laptops[\"Storage_Capacity\"].value_counts()"
   ]
  },
  {
   "cell_type": "code",
   "execution_count": 30,
   "metadata": {},
   "outputs": [],
   "source": [
    "laptops = pd.get_dummies(laptops, columns=['Brand'], prefix='Brand', drop_first=True)"
   ]
  },
  {
   "cell_type": "code",
   "execution_count": 31,
   "metadata": {},
   "outputs": [
    {
     "data": {
      "image/png": "[encoded data removed]",
      "text/plain": [
       "<Figure size 640x480 with 2 Axes>"
      ]
     },
     "metadata": {},
     "output_type": "display_data"
    }
   ],
   "source": [
    "dataplot = sb.heatmap(laptops.corr(), cmap=\"YlGnBu\", annot=True, fmt=\".2f\") \n",
    "# displaying heatmap \n",
    "plt.show() "
   ]
  },
  {
   "cell_type": "code",
   "execution_count": 32,
   "metadata": {},
   "outputs": [],
   "source": [
    "laptops[\"Screen_Size\"] = pd.qcut(laptops[\"Screen_Size\"], 10)"
   ]
  },
  {
   "cell_type": "code",
   "execution_count": 33,
   "metadata": {},
   "outputs": [
    {
     "data": {
      "text/html": [
       "<div>\n",
       "<style scoped>\n",
       "    .dataframe tbody tr th:only-of-type {\n",
       "        vertical-align: middle;\n",
       "    }\n",
       "\n",
       "    .dataframe tbody tr th {\n",
       "        vertical-align: top;\n",
       "    }\n",
       "\n",
       "    .dataframe thead th {\n",
       "        text-align: right;\n",
       "    }\n",
       "</style>\n",
       "<table border=\"1\" class=\"dataframe\">\n",
       "  <thead>\n",
       "    <tr style=\"text-align: right;\">\n",
       "      <th></th>\n",
       "      <th>Processor_Speed</th>\n",
       "      <th>RAM_Size</th>\n",
       "      <th>Storage_Capacity</th>\n",
       "      <th>Screen_Size</th>\n",
       "      <th>Weight</th>\n",
       "      <th>Price</th>\n",
       "      <th>Brand_Asus</th>\n",
       "      <th>Brand_Dell</th>\n",
       "      <th>Brand_HP</th>\n",
       "      <th>Brand_Lenovo</th>\n",
       "    </tr>\n",
       "  </thead>\n",
       "  <tbody>\n",
       "    <tr>\n",
       "      <th>0</th>\n",
       "      <td>3.830296</td>\n",
       "      <td>16</td>\n",
       "      <td>512</td>\n",
       "      <td>(11.011000000000001, 11.642]</td>\n",
       "      <td>2.641094</td>\n",
       "      <td>17395.093065</td>\n",
       "      <td>True</td>\n",
       "      <td>False</td>\n",
       "      <td>False</td>\n",
       "      <td>False</td>\n",
       "    </tr>\n",
       "    <tr>\n",
       "      <th>1</th>\n",
       "      <td>2.912833</td>\n",
       "      <td>4</td>\n",
       "      <td>1000</td>\n",
       "      <td>(11.011000000000001, 11.642]</td>\n",
       "      <td>3.260012</td>\n",
       "      <td>31607.605919</td>\n",
       "      <td>False</td>\n",
       "      <td>False</td>\n",
       "      <td>False</td>\n",
       "      <td>False</td>\n",
       "    </tr>\n",
       "    <tr>\n",
       "      <th>2</th>\n",
       "      <td>3.241627</td>\n",
       "      <td>4</td>\n",
       "      <td>256</td>\n",
       "      <td>(11.642, 12.297]</td>\n",
       "      <td>2.029061</td>\n",
       "      <td>9291.023542</td>\n",
       "      <td>False</td>\n",
       "      <td>False</td>\n",
       "      <td>False</td>\n",
       "      <td>True</td>\n",
       "    </tr>\n",
       "    <tr>\n",
       "      <th>3</th>\n",
       "      <td>3.806248</td>\n",
       "      <td>16</td>\n",
       "      <td>512</td>\n",
       "      <td>(11.642, 12.297]</td>\n",
       "      <td>4.573865</td>\n",
       "      <td>17436.728334</td>\n",
       "      <td>False</td>\n",
       "      <td>False</td>\n",
       "      <td>False</td>\n",
       "      <td>False</td>\n",
       "    </tr>\n",
       "    <tr>\n",
       "      <th>4</th>\n",
       "      <td>3.268097</td>\n",
       "      <td>32</td>\n",
       "      <td>1000</td>\n",
       "      <td>(14.662, 15.243]</td>\n",
       "      <td>4.193472</td>\n",
       "      <td>32917.990718</td>\n",
       "      <td>False</td>\n",
       "      <td>False</td>\n",
       "      <td>False</td>\n",
       "      <td>False</td>\n",
       "    </tr>\n",
       "    <tr>\n",
       "      <th>5</th>\n",
       "      <td>1.881348</td>\n",
       "      <td>16</td>\n",
       "      <td>256</td>\n",
       "      <td>(11.642, 12.297]</td>\n",
       "      <td>4.840268</td>\n",
       "      <td>9543.719980</td>\n",
       "      <td>False</td>\n",
       "      <td>False</td>\n",
       "      <td>True</td>\n",
       "      <td>False</td>\n",
       "    </tr>\n",
       "    <tr>\n",
       "      <th>6</th>\n",
       "      <td>2.940721</td>\n",
       "      <td>32</td>\n",
       "      <td>256</td>\n",
       "      <td>(11.642, 12.297]</td>\n",
       "      <td>4.344846</td>\n",
       "      <td>10390.137319</td>\n",
       "      <td>False</td>\n",
       "      <td>False</td>\n",
       "      <td>False</td>\n",
       "      <td>True</td>\n",
       "    </tr>\n",
       "    <tr>\n",
       "      <th>7</th>\n",
       "      <td>3.016788</td>\n",
       "      <td>4</td>\n",
       "      <td>256</td>\n",
       "      <td>(15.243, 15.762]</td>\n",
       "      <td>2.941120</td>\n",
       "      <td>9214.484506</td>\n",
       "      <td>False</td>\n",
       "      <td>False</td>\n",
       "      <td>False</td>\n",
       "      <td>True</td>\n",
       "    </tr>\n",
       "    <tr>\n",
       "      <th>8</th>\n",
       "      <td>2.560327</td>\n",
       "      <td>4</td>\n",
       "      <td>512</td>\n",
       "      <td>(14.662, 15.243]</td>\n",
       "      <td>2.743620</td>\n",
       "      <td>16372.175284</td>\n",
       "      <td>False</td>\n",
       "      <td>False</td>\n",
       "      <td>False</td>\n",
       "      <td>True</td>\n",
       "    </tr>\n",
       "    <tr>\n",
       "      <th>9</th>\n",
       "      <td>3.341111</td>\n",
       "      <td>32</td>\n",
       "      <td>512</td>\n",
       "      <td>(13.522, 14.1]</td>\n",
       "      <td>4.093149</td>\n",
       "      <td>18501.832733</td>\n",
       "      <td>False</td>\n",
       "      <td>False</td>\n",
       "      <td>False</td>\n",
       "      <td>False</td>\n",
       "    </tr>\n",
       "  </tbody>\n",
       "</table>\n",
       "</div>"
      ],
      "text/plain": [
       "   Processor_Speed  RAM_Size  Storage_Capacity                   Screen_Size  \\\n",
       "0         3.830296        16               512  (11.011000000000001, 11.642]   \n",
       "1         2.912833         4              1000  (11.011000000000001, 11.642]   \n",
       "2         3.241627         4               256              (11.642, 12.297]   \n",
       "3         3.806248        16               512              (11.642, 12.297]   \n",
       "4         3.268097        32              1000              (14.662, 15.243]   \n",
       "5         1.881348        16               256              (11.642, 12.297]   \n",
       "6         2.940721        32               256              (11.642, 12.297]   \n",
       "7         3.016788         4               256              (15.243, 15.762]   \n",
       "8         2.560327         4               512              (14.662, 15.243]   \n",
       "9         3.341111        32               512                (13.522, 14.1]   \n",
       "\n",
       "     Weight         Price  Brand_Asus  Brand_Dell  Brand_HP  Brand_Lenovo  \n",
       "0  2.641094  17395.093065        True       False     False         False  \n",
       "1  3.260012  31607.605919       False       False     False         False  \n",
       "2  2.029061   9291.023542       False       False     False          True  \n",
       "3  4.573865  17436.728334       False       False     False         False  \n",
       "4  4.193472  32917.990718       False       False     False         False  \n",
       "5  4.840268   9543.719980       False       False      True         False  \n",
       "6  4.344846  10390.137319       False       False     False          True  \n",
       "7  2.941120   9214.484506       False       False     False          True  \n",
       "8  2.743620  16372.175284       False       False     False          True  \n",
       "9  4.093149  18501.832733       False       False     False         False  "
      ]
     },
     "execution_count": 33,
     "metadata": {},
     "output_type": "execute_result"
    }
   ],
   "source": [
    "\n",
    "laptops.head(10)"
   ]
  },
  {
   "cell_type": "code",
   "execution_count": 34,
   "metadata": {},
   "outputs": [],
   "source": [
    "laptops[\"Price\"] = pd.qcut(laptops[\"Price\"], 10)"
   ]
  },
  {
   "cell_type": "code",
   "execution_count": 35,
   "metadata": {},
   "outputs": [],
   "source": [
    "laptops[\"Weight\"] = pd.qcut(laptops[\"Weight\"], 10)"
   ]
  },
  {
   "cell_type": "code",
   "execution_count": 36,
   "metadata": {},
   "outputs": [],
   "source": [
    "laptops[\"Processor_Speed\"] = pd.qcut(laptops[\"Processor_Speed\"], 10)"
   ]
  },
  {
   "cell_type": "code",
   "execution_count": 37,
   "metadata": {},
   "outputs": [],
   "source": [
    "def count_entropy(column: pd.Series, total: int) -> float:\n",
    "    res: float = 0.0\n",
    "    for num in column:\n",
    "        if (num == 0):\n",
    "            continue\n",
    "        res += (num / total) * np.log2((num / total))\n",
    "    return -res\n",
    "\n",
    "\n",
    "def calculate_gain_ratio(data_set: pd.DataFrame, column: str, target_column: str) -> float:\n",
    "    column_values: pd.Series[int] = data_set[column].value_counts()\n",
    "    entropy_before: float = count_entropy(data_set[target_column].value_counts(), data_set[target_column].size)\n",
    "\n",
    "    entropy_after:float = 0\n",
    "    for colunm_value in column_values.keys():\n",
    "\n",
    "        weight: float =  column_values[colunm_value] / data_set[target_column].size\n",
    "        entropy_after += weight *  count_entropy(data_set[data_set[column] == colunm_value][target_column].value_counts(), column_values[colunm_value])\n",
    "    \n",
    "\n",
    "    column_entropy = count_entropy(data_set[column].value_counts(), data_set[column].size)\n",
    "    return (entropy_before - entropy_after)/column_entropy\n",
    "    "
   ]
  },
  {
   "cell_type": "code",
   "execution_count": 38,
   "metadata": {},
   "outputs": [
    {
     "name": "stdout",
     "output_type": "stream",
     "text": [
      "Processor_Speed 0.030039279520300492\n",
      "RAM_Size 0.3753223327555702\n",
      "Storage_Capacity 0.8781144810601569\n",
      "Screen_Size 0.01722461683408392\n",
      "Weight 0.021260678914871836\n",
      "Brand_Asus 0.010028519950922509\n",
      "Brand_Dell 0.01012888607813013\n",
      "Brand_HP 0.008733972788757023\n",
      "Brand_Lenovo 0.013044100832974406\n"
     ]
    }
   ],
   "source": [
    "for column in laptops.columns:\n",
    "    if column == \"Price\":\n",
    "        continue\n",
    "    print(column, calculate_gain_ratio(laptops, column, \"Price\"))"
   ]
  },
  {
   "cell_type": "code",
   "execution_count": 39,
   "metadata": {},
   "outputs": [],
   "source": [
    "result = pd.read_csv(\"Laptop_price.csv\")\n",
    "result = result[[\"RAM_Size\", \"Storage_Capacity\", \"Price\"]]"
   ]
  },
  {
   "cell_type": "code",
   "execution_count": 46,
   "metadata": {},
   "outputs": [],
   "source": [
    "\n",
    "result.reindex(np.random.permutation(result.index))\n",
    "min_max_scaler = preprocessing.MinMaxScaler()\n",
    "np_scaled = min_max_scaler.fit_transform(result)\n",
    "result = pd.DataFrame(np_scaled, columns=[\"RAM_Size\", \"Storage_Capacity\", \"Price\"])\n",
    "result.to_csv(\"laptops_in.csv\", index= False)"
   ]
  },
  {
   "cell_type": "code",
   "execution_count": 47,
   "metadata": {},
   "outputs": [
    {
     "data": {
      "text/html": [
       "<div>\n",
       "<style scoped>\n",
       "    .dataframe tbody tr th:only-of-type {\n",
       "        vertical-align: middle;\n",
       "    }\n",
       "\n",
       "    .dataframe tbody tr th {\n",
       "        vertical-align: top;\n",
       "    }\n",
       "\n",
       "    .dataframe thead th {\n",
       "        text-align: right;\n",
       "    }\n",
       "</style>\n",
       "<table border=\"1\" class=\"dataframe\">\n",
       "  <thead>\n",
       "    <tr style=\"text-align: right;\">\n",
       "      <th></th>\n",
       "      <th>RAM_Size</th>\n",
       "      <th>Storage_Capacity</th>\n",
       "      <th>Price</th>\n",
       "    </tr>\n",
       "  </thead>\n",
       "  <tbody>\n",
       "    <tr>\n",
       "      <th>0</th>\n",
       "      <td>0.428571</td>\n",
       "      <td>0.344086</td>\n",
       "      <td>0.353939</td>\n",
       "    </tr>\n",
       "    <tr>\n",
       "      <th>1</th>\n",
       "      <td>0.000000</td>\n",
       "      <td>1.000000</td>\n",
       "      <td>0.923946</td>\n",
       "    </tr>\n",
       "    <tr>\n",
       "      <th>2</th>\n",
       "      <td>0.000000</td>\n",
       "      <td>0.000000</td>\n",
       "      <td>0.028917</td>\n",
       "    </tr>\n",
       "    <tr>\n",
       "      <th>3</th>\n",
       "      <td>0.428571</td>\n",
       "      <td>0.344086</td>\n",
       "      <td>0.355609</td>\n",
       "    </tr>\n",
       "    <tr>\n",
       "      <th>4</th>\n",
       "      <td>1.000000</td>\n",
       "      <td>1.000000</td>\n",
       "      <td>0.976500</td>\n",
       "    </tr>\n",
       "    <tr>\n",
       "      <th>5</th>\n",
       "      <td>0.428571</td>\n",
       "      <td>0.000000</td>\n",
       "      <td>0.039051</td>\n",
       "    </tr>\n",
       "    <tr>\n",
       "      <th>6</th>\n",
       "      <td>1.000000</td>\n",
       "      <td>0.000000</td>\n",
       "      <td>0.072998</td>\n",
       "    </tr>\n",
       "    <tr>\n",
       "      <th>7</th>\n",
       "      <td>0.000000</td>\n",
       "      <td>0.000000</td>\n",
       "      <td>0.025847</td>\n",
       "    </tr>\n",
       "    <tr>\n",
       "      <th>8</th>\n",
       "      <td>0.000000</td>\n",
       "      <td>0.344086</td>\n",
       "      <td>0.312914</td>\n",
       "    </tr>\n",
       "    <tr>\n",
       "      <th>9</th>\n",
       "      <td>1.000000</td>\n",
       "      <td>0.344086</td>\n",
       "      <td>0.398326</td>\n",
       "    </tr>\n",
       "  </tbody>\n",
       "</table>\n",
       "</div>"
      ],
      "text/plain": [
       "   RAM_Size  Storage_Capacity     Price\n",
       "0  0.428571          0.344086  0.353939\n",
       "1  0.000000          1.000000  0.923946\n",
       "2  0.000000          0.000000  0.028917\n",
       "3  0.428571          0.344086  0.355609\n",
       "4  1.000000          1.000000  0.976500\n",
       "5  0.428571          0.000000  0.039051\n",
       "6  1.000000          0.000000  0.072998\n",
       "7  0.000000          0.000000  0.025847\n",
       "8  0.000000          0.344086  0.312914\n",
       "9  1.000000          0.344086  0.398326"
      ]
     },
     "execution_count": 47,
     "metadata": {},
     "output_type": "execute_result"
    }
   ],
   "source": [
    "result.head(10)"
   ]
  }
 ],
 "metadata": {
  "kernelspec": {
   "display_name": "Python 3",
   "language": "python",
   "name": "python3"
  },
  "language_info": {
   "codemirror_mode": {
    "name": "ipython",
    "version": 3
   },
   "file_extension": ".py",
   "mimetype": "text/x-python",
   "name": "python",
   "nbconvert_exporter": "python",
   "pygments_lexer": "ipython3",
   "version": "3.10.12"
  }
 },
 "nbformat": 4,
 "nbformat_minor": 2
}
